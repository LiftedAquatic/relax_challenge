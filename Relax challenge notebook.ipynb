{
 "cells": [
  {
   "cell_type": "code",
   "execution_count": 1,
   "metadata": {},
   "outputs": [],
   "source": [
    "# import fundamental packages\n",
    "\n",
    "import pandas as pd\n",
    "import numpy as np\n",
    "import matplotlib.pyplot as plt\n",
    "import seaborn as sns\n",
    "import json\n",
    "import math \n",
    "\n",
    "import warnings\n",
    "warnings.filterwarnings('ignore')"
   ]
  },
  {
   "cell_type": "code",
   "execution_count": 251,
   "metadata": {},
   "outputs": [],
   "source": [
    "# import datasets \n",
    "\n",
    "users_df = pd.read_csv('takehome_users.csv')\n",
    "users_login = pd.read_csv('takehome_user_engagement.csv')"
   ]
  },
  {
   "cell_type": "markdown",
   "metadata": {},
   "source": [
    "# Data Munging"
   ]
  },
  {
   "cell_type": "markdown",
   "metadata": {},
   "source": [
    "First, lets look at the user logins data "
   ]
  },
  {
   "cell_type": "code",
   "execution_count": 252,
   "metadata": {},
   "outputs": [
    {
     "data": {
      "text/html": "<div>\n<style scoped>\n    .dataframe tbody tr th:only-of-type {\n        vertical-align: middle;\n    }\n\n    .dataframe tbody tr th {\n        vertical-align: top;\n    }\n\n    .dataframe thead th {\n        text-align: right;\n    }\n</style>\n<table border=\"1\" class=\"dataframe\">\n  <thead>\n    <tr style=\"text-align: right;\">\n      <th></th>\n      <th>time_stamp</th>\n      <th>user_id</th>\n      <th>visited</th>\n    </tr>\n  </thead>\n  <tbody>\n    <tr>\n      <th>0</th>\n      <td>2014-04-22 03:53:30</td>\n      <td>1</td>\n      <td>1</td>\n    </tr>\n    <tr>\n      <th>1</th>\n      <td>2013-11-15 03:45:04</td>\n      <td>2</td>\n      <td>1</td>\n    </tr>\n    <tr>\n      <th>2</th>\n      <td>2013-11-29 03:45:04</td>\n      <td>2</td>\n      <td>1</td>\n    </tr>\n    <tr>\n      <th>3</th>\n      <td>2013-12-09 03:45:04</td>\n      <td>2</td>\n      <td>1</td>\n    </tr>\n    <tr>\n      <th>4</th>\n      <td>2013-12-25 03:45:04</td>\n      <td>2</td>\n      <td>1</td>\n    </tr>\n    <tr>\n      <th>...</th>\n      <td>...</td>\n      <td>...</td>\n      <td>...</td>\n    </tr>\n    <tr>\n      <th>207912</th>\n      <td>2013-09-06 06:14:15</td>\n      <td>11996</td>\n      <td>1</td>\n    </tr>\n    <tr>\n      <th>207913</th>\n      <td>2013-01-15 18:28:37</td>\n      <td>11997</td>\n      <td>1</td>\n    </tr>\n    <tr>\n      <th>207914</th>\n      <td>2014-04-27 12:45:16</td>\n      <td>11998</td>\n      <td>1</td>\n    </tr>\n    <tr>\n      <th>207915</th>\n      <td>2012-06-02 11:55:59</td>\n      <td>11999</td>\n      <td>1</td>\n    </tr>\n    <tr>\n      <th>207916</th>\n      <td>2014-01-26 08:57:12</td>\n      <td>12000</td>\n      <td>1</td>\n    </tr>\n  </tbody>\n</table>\n<p>207917 rows × 3 columns</p>\n</div>",
      "text/plain": "                 time_stamp  user_id  visited\n0       2014-04-22 03:53:30        1        1\n1       2013-11-15 03:45:04        2        1\n2       2013-11-29 03:45:04        2        1\n3       2013-12-09 03:45:04        2        1\n4       2013-12-25 03:45:04        2        1\n...                     ...      ...      ...\n207912  2013-09-06 06:14:15    11996        1\n207913  2013-01-15 18:28:37    11997        1\n207914  2014-04-27 12:45:16    11998        1\n207915  2012-06-02 11:55:59    11999        1\n207916  2014-01-26 08:57:12    12000        1\n\n[207917 rows x 3 columns]"
     },
     "execution_count": 252,
     "metadata": {},
     "output_type": "execute_result"
    }
   ],
   "source": [
    "users_login"
   ]
  },
  {
   "cell_type": "code",
   "execution_count": 253,
   "metadata": {},
   "outputs": [
    {
     "data": {
      "text/plain": "time_stamp    object\nuser_id        int64\nvisited        int64\ndtype: object"
     },
     "execution_count": 253,
     "metadata": {},
     "output_type": "execute_result"
    }
   ],
   "source": [
    "users_login.dtypes"
   ]
  },
  {
   "cell_type": "code",
   "execution_count": 254,
   "metadata": {},
   "outputs": [
    {
     "data": {
      "text/plain": "time_stamp    0\nuser_id       0\nvisited       0\ndtype: int64"
     },
     "execution_count": 254,
     "metadata": {},
     "output_type": "execute_result"
    }
   ],
   "source": [
    "users_login.isnull().sum()"
   ]
  },
  {
   "cell_type": "markdown",
   "metadata": {},
   "source": [
    "We have no missing values which is good. Let's convert the 'time stamp' column into the datetime format."
   ]
  },
  {
   "cell_type": "code",
   "execution_count": 255,
   "metadata": {},
   "outputs": [],
   "source": [
    "# make 'time stamp' column into datetime format \n",
    "\n",
    "users_login['time_stamp'] = pd.to_datetime(users_login['time_stamp'])"
   ]
  },
  {
   "cell_type": "code",
   "execution_count": 256,
   "metadata": {},
   "outputs": [
    {
     "data": {
      "text/html": "<div>\n<style scoped>\n    .dataframe tbody tr th:only-of-type {\n        vertical-align: middle;\n    }\n\n    .dataframe tbody tr th {\n        vertical-align: top;\n    }\n\n    .dataframe thead th {\n        text-align: right;\n    }\n</style>\n<table border=\"1\" class=\"dataframe\">\n  <thead>\n    <tr style=\"text-align: right;\">\n      <th></th>\n      <th>time_stamp</th>\n      <th>user_id</th>\n      <th>visited</th>\n    </tr>\n  </thead>\n  <tbody>\n    <tr>\n      <th>178140</th>\n      <td>2012-05-31 08:20:06</td>\n      <td>10012</td>\n      <td>1</td>\n    </tr>\n    <tr>\n      <th>59486</th>\n      <td>2012-05-31 15:47:36</td>\n      <td>3428</td>\n      <td>1</td>\n    </tr>\n    <tr>\n      <th>175638</th>\n      <td>2012-05-31 17:19:37</td>\n      <td>9899</td>\n      <td>1</td>\n    </tr>\n    <tr>\n      <th>26821</th>\n      <td>2012-05-31 21:58:33</td>\n      <td>1693</td>\n      <td>1</td>\n    </tr>\n    <tr>\n      <th>109716</th>\n      <td>2012-06-01 00:17:30</td>\n      <td>6102</td>\n      <td>1</td>\n    </tr>\n    <tr>\n      <th>...</th>\n      <td>...</td>\n      <td>...</td>\n      <td>...</td>\n    </tr>\n    <tr>\n      <th>84316</th>\n      <td>2014-06-04 23:32:13</td>\n      <td>4625</td>\n      <td>1</td>\n    </tr>\n    <tr>\n      <th>162633</th>\n      <td>2014-06-04 23:34:04</td>\n      <td>9325</td>\n      <td>1</td>\n    </tr>\n    <tr>\n      <th>168409</th>\n      <td>2014-06-04 23:46:31</td>\n      <td>9558</td>\n      <td>1</td>\n    </tr>\n    <tr>\n      <th>6053</th>\n      <td>2014-06-04 23:56:26</td>\n      <td>341</td>\n      <td>1</td>\n    </tr>\n    <tr>\n      <th>70763</th>\n      <td>2014-06-06 14:58:50</td>\n      <td>4051</td>\n      <td>1</td>\n    </tr>\n  </tbody>\n</table>\n<p>207917 rows × 3 columns</p>\n</div>",
      "text/plain": "                time_stamp  user_id  visited\n178140 2012-05-31 08:20:06    10012        1\n59486  2012-05-31 15:47:36     3428        1\n175638 2012-05-31 17:19:37     9899        1\n26821  2012-05-31 21:58:33     1693        1\n109716 2012-06-01 00:17:30     6102        1\n...                    ...      ...      ...\n84316  2014-06-04 23:32:13     4625        1\n162633 2014-06-04 23:34:04     9325        1\n168409 2014-06-04 23:46:31     9558        1\n6053   2014-06-04 23:56:26      341        1\n70763  2014-06-06 14:58:50     4051        1\n\n[207917 rows x 3 columns]"
     },
     "execution_count": 256,
     "metadata": {},
     "output_type": "execute_result"
    }
   ],
   "source": [
    "# check to see how long our dataset spans \n",
    "\n",
    "users_login.sort_values('time_stamp')"
   ]
  },
  {
   "cell_type": "markdown",
   "metadata": {},
   "source": [
    "It looks like our dataset spans from May 31, 2012 to June 6, 2014"
   ]
  },
  {
   "cell_type": "code",
   "execution_count": 257,
   "metadata": {},
   "outputs": [
    {
     "data": {
      "text/plain": "8823"
     },
     "execution_count": 257,
     "metadata": {},
     "output_type": "execute_result"
    }
   ],
   "source": [
    "# see how many unique users have logined in at all.\n",
    "\n",
    "len(users_login.user_id.unique())"
   ]
  },
  {
   "cell_type": "markdown",
   "metadata": {},
   "source": [
    "8,823 users out of 12,000 have logined in to the service"
   ]
  },
  {
   "cell_type": "code",
   "execution_count": 258,
   "metadata": {},
   "outputs": [],
   "source": [
    "# extract just the date from the time_stamp column\n",
    "\n",
    "users_login['date'] = users_login.time_stamp.dt.date\n",
    "\n",
    "users_login.drop(['time_stamp'], axis=1, inplace=True)"
   ]
  },
  {
   "cell_type": "markdown",
   "metadata": {},
   "source": [
    "Now we need to calculate the 'adopted user' metric "
   ]
  },
  {
   "cell_type": "code",
   "execution_count": 259,
   "metadata": {},
   "outputs": [],
   "source": [
    "from datetime import timedelta"
   ]
  },
  {
   "cell_type": "markdown",
   "metadata": {},
   "source": [
    "Our metric for adopted user is one who has logged in on 3 seperate days within at least one 7 day window."
   ]
  },
  {
   "cell_type": "code",
   "execution_count": 260,
   "metadata": {},
   "outputs": [],
   "source": [
    "# create function to calculate an adopted user \n",
    "\n",
    "def login_freq(df):\n",
    "    df = df.drop_duplicates(subset='date').sort_values('date')\n",
    "    day_diff = df['date'].diff(2)\n",
    "    return any(day_diff <= timedelta(days=7))\n"
   ]
  },
  {
   "cell_type": "code",
   "execution_count": 261,
   "metadata": {},
   "outputs": [],
   "source": [
    "# apply extraction fucntion to the dataframe \n",
    "adopted = users_login.groupby('user_id').apply(login_freq)\n",
    "\n",
    "# create new dataframe with properly named columns\n",
    "adopted_df = pd.DataFrame(adopted, columns=['adopted'])\n",
    "\n",
    "#convert boolean adoption column into 1/0 numeric values \n",
    "adopted_df['adopted'] = adopted_df.adopted.astype('int')\n",
    "\n",
    "# 'user_id' its own column\n",
    "adopted_df.index.name = 'user_id'\n",
    "\n",
    "# reset the index\n",
    "adopted_df.reset_index(inplace=True)"
   ]
  },
  {
   "cell_type": "code",
   "execution_count": 262,
   "metadata": {},
   "outputs": [
    {
     "data": {
      "text/plain": "0    7167\n1    1656\nName: adopted, dtype: int64"
     },
     "execution_count": 262,
     "metadata": {},
     "output_type": "execute_result"
    }
   ],
   "source": [
    "adopted_df.adopted.value_counts()"
   ]
  },
  {
   "cell_type": "markdown",
   "metadata": {},
   "source": [
    "1656 are considered adopted and 7167 are considered not adopted of the 8823 users that logged in. "
   ]
  },
  {
   "cell_type": "markdown",
   "metadata": {},
   "source": [
    "Great! Now let's examine the users dataframe "
   ]
  },
  {
   "cell_type": "code",
   "execution_count": 263,
   "metadata": {},
   "outputs": [
    {
     "data": {
      "text/html": "<div>\n<style scoped>\n    .dataframe tbody tr th:only-of-type {\n        vertical-align: middle;\n    }\n\n    .dataframe tbody tr th {\n        vertical-align: top;\n    }\n\n    .dataframe thead th {\n        text-align: right;\n    }\n</style>\n<table border=\"1\" class=\"dataframe\">\n  <thead>\n    <tr style=\"text-align: right;\">\n      <th></th>\n      <th>object_id</th>\n      <th>creation_time</th>\n      <th>name</th>\n      <th>email</th>\n      <th>creation_source</th>\n      <th>last_session_creation_time</th>\n      <th>opted_in_to_mailing_list</th>\n      <th>enabled_for_marketing_drip</th>\n      <th>org_id</th>\n      <th>invited_by_user_id</th>\n    </tr>\n  </thead>\n  <tbody>\n    <tr>\n      <th>0</th>\n      <td>1</td>\n      <td>2014-04-22 03:53:30</td>\n      <td>Clausen August</td>\n      <td>AugustCClausen@yahoo.com</td>\n      <td>GUEST_INVITE</td>\n      <td>1.398139e+09</td>\n      <td>1</td>\n      <td>0</td>\n      <td>11</td>\n      <td>10803.0</td>\n    </tr>\n    <tr>\n      <th>1</th>\n      <td>2</td>\n      <td>2013-11-15 03:45:04</td>\n      <td>Poole Matthew</td>\n      <td>MatthewPoole@gustr.com</td>\n      <td>ORG_INVITE</td>\n      <td>1.396238e+09</td>\n      <td>0</td>\n      <td>0</td>\n      <td>1</td>\n      <td>316.0</td>\n    </tr>\n    <tr>\n      <th>2</th>\n      <td>3</td>\n      <td>2013-03-19 23:14:52</td>\n      <td>Bottrill Mitchell</td>\n      <td>MitchellBottrill@gustr.com</td>\n      <td>ORG_INVITE</td>\n      <td>1.363735e+09</td>\n      <td>0</td>\n      <td>0</td>\n      <td>94</td>\n      <td>1525.0</td>\n    </tr>\n    <tr>\n      <th>3</th>\n      <td>4</td>\n      <td>2013-05-21 08:09:28</td>\n      <td>Clausen Nicklas</td>\n      <td>NicklasSClausen@yahoo.com</td>\n      <td>GUEST_INVITE</td>\n      <td>1.369210e+09</td>\n      <td>0</td>\n      <td>0</td>\n      <td>1</td>\n      <td>5151.0</td>\n    </tr>\n    <tr>\n      <th>4</th>\n      <td>5</td>\n      <td>2013-01-17 10:14:20</td>\n      <td>Raw Grace</td>\n      <td>GraceRaw@yahoo.com</td>\n      <td>GUEST_INVITE</td>\n      <td>1.358850e+09</td>\n      <td>0</td>\n      <td>0</td>\n      <td>193</td>\n      <td>5240.0</td>\n    </tr>\n    <tr>\n      <th>...</th>\n      <td>...</td>\n      <td>...</td>\n      <td>...</td>\n      <td>...</td>\n      <td>...</td>\n      <td>...</td>\n      <td>...</td>\n      <td>...</td>\n      <td>...</td>\n      <td>...</td>\n    </tr>\n    <tr>\n      <th>11995</th>\n      <td>11996</td>\n      <td>2013-09-06 06:14:15</td>\n      <td>Meier Sophia</td>\n      <td>SophiaMeier@gustr.com</td>\n      <td>ORG_INVITE</td>\n      <td>1.378448e+09</td>\n      <td>0</td>\n      <td>0</td>\n      <td>89</td>\n      <td>8263.0</td>\n    </tr>\n    <tr>\n      <th>11996</th>\n      <td>11997</td>\n      <td>2013-01-10 18:28:37</td>\n      <td>Fisher Amelie</td>\n      <td>AmelieFisher@gmail.com</td>\n      <td>SIGNUP_GOOGLE_AUTH</td>\n      <td>1.358275e+09</td>\n      <td>0</td>\n      <td>0</td>\n      <td>200</td>\n      <td>NaN</td>\n    </tr>\n    <tr>\n      <th>11997</th>\n      <td>11998</td>\n      <td>2014-04-27 12:45:16</td>\n      <td>Haynes Jake</td>\n      <td>JakeHaynes@cuvox.de</td>\n      <td>GUEST_INVITE</td>\n      <td>1.398603e+09</td>\n      <td>1</td>\n      <td>1</td>\n      <td>83</td>\n      <td>8074.0</td>\n    </tr>\n    <tr>\n      <th>11998</th>\n      <td>11999</td>\n      <td>2012-05-31 11:55:59</td>\n      <td>Faber Annett</td>\n      <td>mhaerzxp@iuxiw.com</td>\n      <td>PERSONAL_PROJECTS</td>\n      <td>1.338638e+09</td>\n      <td>0</td>\n      <td>0</td>\n      <td>6</td>\n      <td>NaN</td>\n    </tr>\n    <tr>\n      <th>11999</th>\n      <td>12000</td>\n      <td>2014-01-26 08:57:12</td>\n      <td>Lima Tha�s</td>\n      <td>ThaisMeloLima@hotmail.com</td>\n      <td>SIGNUP</td>\n      <td>1.390727e+09</td>\n      <td>0</td>\n      <td>1</td>\n      <td>0</td>\n      <td>NaN</td>\n    </tr>\n  </tbody>\n</table>\n<p>12000 rows × 10 columns</p>\n</div>",
      "text/plain": "       object_id        creation_time               name  \\\n0              1  2014-04-22 03:53:30     Clausen August   \n1              2  2013-11-15 03:45:04      Poole Matthew   \n2              3  2013-03-19 23:14:52  Bottrill Mitchell   \n3              4  2013-05-21 08:09:28    Clausen Nicklas   \n4              5  2013-01-17 10:14:20          Raw Grace   \n...          ...                  ...                ...   \n11995      11996  2013-09-06 06:14:15       Meier Sophia   \n11996      11997  2013-01-10 18:28:37      Fisher Amelie   \n11997      11998  2014-04-27 12:45:16        Haynes Jake   \n11998      11999  2012-05-31 11:55:59       Faber Annett   \n11999      12000  2014-01-26 08:57:12         Lima Tha�s   \n\n                            email     creation_source  \\\n0        AugustCClausen@yahoo.com        GUEST_INVITE   \n1          MatthewPoole@gustr.com          ORG_INVITE   \n2      MitchellBottrill@gustr.com          ORG_INVITE   \n3       NicklasSClausen@yahoo.com        GUEST_INVITE   \n4              GraceRaw@yahoo.com        GUEST_INVITE   \n...                           ...                 ...   \n11995       SophiaMeier@gustr.com          ORG_INVITE   \n11996      AmelieFisher@gmail.com  SIGNUP_GOOGLE_AUTH   \n11997         JakeHaynes@cuvox.de        GUEST_INVITE   \n11998          mhaerzxp@iuxiw.com   PERSONAL_PROJECTS   \n11999   ThaisMeloLima@hotmail.com              SIGNUP   \n\n       last_session_creation_time  opted_in_to_mailing_list  \\\n0                    1.398139e+09                         1   \n1                    1.396238e+09                         0   \n2                    1.363735e+09                         0   \n3                    1.369210e+09                         0   \n4                    1.358850e+09                         0   \n...                           ...                       ...   \n11995                1.378448e+09                         0   \n11996                1.358275e+09                         0   \n11997                1.398603e+09                         1   \n11998                1.338638e+09                         0   \n11999                1.390727e+09                         0   \n\n       enabled_for_marketing_drip  org_id  invited_by_user_id  \n0                               0      11             10803.0  \n1                               0       1               316.0  \n2                               0      94              1525.0  \n3                               0       1              5151.0  \n4                               0     193              5240.0  \n...                           ...     ...                 ...  \n11995                           0      89              8263.0  \n11996                           0     200                 NaN  \n11997                           1      83              8074.0  \n11998                           0       6                 NaN  \n11999                           1       0                 NaN  \n\n[12000 rows x 10 columns]"
     },
     "execution_count": 263,
     "metadata": {},
     "output_type": "execute_result"
    }
   ],
   "source": [
    "users_df"
   ]
  },
  {
   "cell_type": "code",
   "execution_count": 264,
   "metadata": {},
   "outputs": [
    {
     "data": {
      "text/plain": "object_id                       int64\ncreation_time                  object\nname                           object\nemail                          object\ncreation_source                object\nlast_session_creation_time    float64\nopted_in_to_mailing_list        int64\nenabled_for_marketing_drip      int64\norg_id                          int64\ninvited_by_user_id            float64\ndtype: object"
     },
     "execution_count": 264,
     "metadata": {},
     "output_type": "execute_result"
    }
   ],
   "source": [
    "users_df.dtypes"
   ]
  },
  {
   "cell_type": "markdown",
   "metadata": {},
   "source": [
    "The 'last session creation time' and 'creation time' columns need to be converted to datetime objects. "
   ]
  },
  {
   "cell_type": "code",
   "execution_count": 266,
   "metadata": {},
   "outputs": [],
   "source": [
    "# convert 'creation time' and 'last session creation time' column to datetime format \n",
    "\n",
    "users_df['creation_time'] = pd.to_datetime(users_df['creation_time'])\n",
    "users_df['last_session_creation_time'] = pd.to_datetime(users_df['last_session_creation_time'], unit='s')"
   ]
  },
  {
   "cell_type": "code",
   "execution_count": 268,
   "metadata": {},
   "outputs": [
    {
     "data": {
      "text/plain": "object_id                        0\ncreation_time                    0\nname                             0\nemail                            0\ncreation_source                  0\nlast_session_creation_time    3177\nopted_in_to_mailing_list         0\nenabled_for_marketing_drip       0\norg_id                           0\ninvited_by_user_id            5583\ndtype: int64"
     },
     "execution_count": 268,
     "metadata": {},
     "output_type": "execute_result"
    }
   ],
   "source": [
    "users_df.isnull().sum()"
   ]
  },
  {
   "cell_type": "markdown",
   "metadata": {},
   "source": [
    "The missing values for 'invited by user id' suggest that the user signed up on their own without a referral. We will convert these null values to 0.\n",
    "\n",
    "The missing values for 'last session creation time' are more problematic, depending how we need to use that feature. We will come back to this feature."
   ]
  },
  {
   "cell_type": "code",
   "execution_count": 269,
   "metadata": {},
   "outputs": [],
   "source": [
    "# convert 'nan' values in 'invited_by_user_id' to '0'\n",
    "\n",
    "users_df['invited_by_user_id'] = users_df.invited_by_user_id.apply(lambda x: 0 if np.isnan(x) else x)"
   ]
  },
  {
   "cell_type": "markdown",
   "metadata": {},
   "source": [
    "Now let's join out adopted dataframe with our users dataframe."
   ]
  },
  {
   "cell_type": "code",
   "execution_count": 270,
   "metadata": {},
   "outputs": [],
   "source": [
    "main_df = pd.concat([users_df, adopted_df], axis=1, join='outer')"
   ]
  },
  {
   "cell_type": "code",
   "execution_count": 271,
   "metadata": {},
   "outputs": [],
   "source": [
    "# drop duplicate user id column\n",
    "main_df.drop(['user_id'], inplace=True, axis=1)\n",
    "main_df.rename(columns={'object_id':'user_id'}, inplace=True)"
   ]
  },
  {
   "cell_type": "markdown",
   "metadata": {},
   "source": [
    "Since there are users in the main user dataframe that weren't in the logins dataframe they have 'nan' values for the 'adopted' column. Let's change those to 0"
   ]
  },
  {
   "cell_type": "code",
   "execution_count": 272,
   "metadata": {},
   "outputs": [],
   "source": [
    "# replace 'nan' with 0's \n",
    "\n",
    "main_df['adopted'] = main_df['adopted'].apply(lambda x: 0 if np.isnan(x) else x)"
   ]
  },
  {
   "cell_type": "code",
   "execution_count": 273,
   "metadata": {},
   "outputs": [],
   "source": [
    "# convert 'adopted' column to int type\n",
    "\n",
    "main_df.adopted = main_df.adopted.astype('int') "
   ]
  },
  {
   "cell_type": "code",
   "execution_count": 275,
   "metadata": {},
   "outputs": [],
   "source": [
    "# extract just the date from the creation time and last session time columns \n",
    "\n",
    "main_df.creation_time = main_df.creation_time.dt.date\n",
    "main_df.last_session_creation_time = main_df.last_session_creation_time.dt.date"
   ]
  },
  {
   "cell_type": "code",
   "execution_count": 276,
   "metadata": {},
   "outputs": [
    {
     "data": {
      "text/html": "<div>\n<style scoped>\n    .dataframe tbody tr th:only-of-type {\n        vertical-align: middle;\n    }\n\n    .dataframe tbody tr th {\n        vertical-align: top;\n    }\n\n    .dataframe thead th {\n        text-align: right;\n    }\n</style>\n<table border=\"1\" class=\"dataframe\">\n  <thead>\n    <tr style=\"text-align: right;\">\n      <th></th>\n      <th>user_id</th>\n      <th>creation_time</th>\n      <th>name</th>\n      <th>email</th>\n      <th>creation_source</th>\n      <th>last_session_creation_time</th>\n      <th>opted_in_to_mailing_list</th>\n      <th>enabled_for_marketing_drip</th>\n      <th>org_id</th>\n      <th>invited_by_user_id</th>\n      <th>adopted</th>\n    </tr>\n  </thead>\n  <tbody>\n    <tr>\n      <th>0</th>\n      <td>1</td>\n      <td>2014-04-22</td>\n      <td>Clausen August</td>\n      <td>AugustCClausen@yahoo.com</td>\n      <td>GUEST_INVITE</td>\n      <td>2014-04-22</td>\n      <td>1</td>\n      <td>0</td>\n      <td>11</td>\n      <td>10803.0</td>\n      <td>0</td>\n    </tr>\n    <tr>\n      <th>1</th>\n      <td>2</td>\n      <td>2013-11-15</td>\n      <td>Poole Matthew</td>\n      <td>MatthewPoole@gustr.com</td>\n      <td>ORG_INVITE</td>\n      <td>2014-03-31</td>\n      <td>0</td>\n      <td>0</td>\n      <td>1</td>\n      <td>316.0</td>\n      <td>1</td>\n    </tr>\n    <tr>\n      <th>2</th>\n      <td>3</td>\n      <td>2013-03-19</td>\n      <td>Bottrill Mitchell</td>\n      <td>MitchellBottrill@gustr.com</td>\n      <td>ORG_INVITE</td>\n      <td>2013-03-19</td>\n      <td>0</td>\n      <td>0</td>\n      <td>94</td>\n      <td>1525.0</td>\n      <td>0</td>\n    </tr>\n    <tr>\n      <th>3</th>\n      <td>4</td>\n      <td>2013-05-21</td>\n      <td>Clausen Nicklas</td>\n      <td>NicklasSClausen@yahoo.com</td>\n      <td>GUEST_INVITE</td>\n      <td>2013-05-22</td>\n      <td>0</td>\n      <td>0</td>\n      <td>1</td>\n      <td>5151.0</td>\n      <td>0</td>\n    </tr>\n    <tr>\n      <th>4</th>\n      <td>5</td>\n      <td>2013-01-17</td>\n      <td>Raw Grace</td>\n      <td>GraceRaw@yahoo.com</td>\n      <td>GUEST_INVITE</td>\n      <td>2013-01-22</td>\n      <td>0</td>\n      <td>0</td>\n      <td>193</td>\n      <td>5240.0</td>\n      <td>0</td>\n    </tr>\n    <tr>\n      <th>...</th>\n      <td>...</td>\n      <td>...</td>\n      <td>...</td>\n      <td>...</td>\n      <td>...</td>\n      <td>...</td>\n      <td>...</td>\n      <td>...</td>\n      <td>...</td>\n      <td>...</td>\n      <td>...</td>\n    </tr>\n    <tr>\n      <th>11995</th>\n      <td>11996</td>\n      <td>2013-09-06</td>\n      <td>Meier Sophia</td>\n      <td>SophiaMeier@gustr.com</td>\n      <td>ORG_INVITE</td>\n      <td>2013-09-06</td>\n      <td>0</td>\n      <td>0</td>\n      <td>89</td>\n      <td>8263.0</td>\n      <td>0</td>\n    </tr>\n    <tr>\n      <th>11996</th>\n      <td>11997</td>\n      <td>2013-01-10</td>\n      <td>Fisher Amelie</td>\n      <td>AmelieFisher@gmail.com</td>\n      <td>SIGNUP_GOOGLE_AUTH</td>\n      <td>2013-01-15</td>\n      <td>0</td>\n      <td>0</td>\n      <td>200</td>\n      <td>0.0</td>\n      <td>0</td>\n    </tr>\n    <tr>\n      <th>11997</th>\n      <td>11998</td>\n      <td>2014-04-27</td>\n      <td>Haynes Jake</td>\n      <td>JakeHaynes@cuvox.de</td>\n      <td>GUEST_INVITE</td>\n      <td>2014-04-27</td>\n      <td>1</td>\n      <td>1</td>\n      <td>83</td>\n      <td>8074.0</td>\n      <td>0</td>\n    </tr>\n    <tr>\n      <th>11998</th>\n      <td>11999</td>\n      <td>2012-05-31</td>\n      <td>Faber Annett</td>\n      <td>mhaerzxp@iuxiw.com</td>\n      <td>PERSONAL_PROJECTS</td>\n      <td>2012-06-02</td>\n      <td>0</td>\n      <td>0</td>\n      <td>6</td>\n      <td>0.0</td>\n      <td>0</td>\n    </tr>\n    <tr>\n      <th>11999</th>\n      <td>12000</td>\n      <td>2014-01-26</td>\n      <td>Lima Tha�s</td>\n      <td>ThaisMeloLima@hotmail.com</td>\n      <td>SIGNUP</td>\n      <td>2014-01-26</td>\n      <td>0</td>\n      <td>1</td>\n      <td>0</td>\n      <td>0.0</td>\n      <td>0</td>\n    </tr>\n  </tbody>\n</table>\n<p>12000 rows × 11 columns</p>\n</div>",
      "text/plain": "       user_id creation_time               name                       email  \\\n0            1    2014-04-22     Clausen August    AugustCClausen@yahoo.com   \n1            2    2013-11-15      Poole Matthew      MatthewPoole@gustr.com   \n2            3    2013-03-19  Bottrill Mitchell  MitchellBottrill@gustr.com   \n3            4    2013-05-21    Clausen Nicklas   NicklasSClausen@yahoo.com   \n4            5    2013-01-17          Raw Grace          GraceRaw@yahoo.com   \n...        ...           ...                ...                         ...   \n11995    11996    2013-09-06       Meier Sophia       SophiaMeier@gustr.com   \n11996    11997    2013-01-10      Fisher Amelie      AmelieFisher@gmail.com   \n11997    11998    2014-04-27        Haynes Jake         JakeHaynes@cuvox.de   \n11998    11999    2012-05-31       Faber Annett          mhaerzxp@iuxiw.com   \n11999    12000    2014-01-26         Lima Tha�s   ThaisMeloLima@hotmail.com   \n\n          creation_source last_session_creation_time  \\\n0            GUEST_INVITE                 2014-04-22   \n1              ORG_INVITE                 2014-03-31   \n2              ORG_INVITE                 2013-03-19   \n3            GUEST_INVITE                 2013-05-22   \n4            GUEST_INVITE                 2013-01-22   \n...                   ...                        ...   \n11995          ORG_INVITE                 2013-09-06   \n11996  SIGNUP_GOOGLE_AUTH                 2013-01-15   \n11997        GUEST_INVITE                 2014-04-27   \n11998   PERSONAL_PROJECTS                 2012-06-02   \n11999              SIGNUP                 2014-01-26   \n\n       opted_in_to_mailing_list  enabled_for_marketing_drip  org_id  \\\n0                             1                           0      11   \n1                             0                           0       1   \n2                             0                           0      94   \n3                             0                           0       1   \n4                             0                           0     193   \n...                         ...                         ...     ...   \n11995                         0                           0      89   \n11996                         0                           0     200   \n11997                         1                           1      83   \n11998                         0                           0       6   \n11999                         0                           1       0   \n\n       invited_by_user_id  adopted  \n0                 10803.0        0  \n1                   316.0        1  \n2                  1525.0        0  \n3                  5151.0        0  \n4                  5240.0        0  \n...                   ...      ...  \n11995              8263.0        0  \n11996                 0.0        0  \n11997              8074.0        0  \n11998                 0.0        0  \n11999                 0.0        0  \n\n[12000 rows x 11 columns]"
     },
     "execution_count": 276,
     "metadata": {},
     "output_type": "execute_result"
    }
   ],
   "source": [
    "main_df"
   ]
  },
  {
   "cell_type": "code",
   "execution_count": 284,
   "metadata": {},
   "outputs": [
    {
     "data": {
      "text/html": "<div>\n<style scoped>\n    .dataframe tbody tr th:only-of-type {\n        vertical-align: middle;\n    }\n\n    .dataframe tbody tr th {\n        vertical-align: top;\n    }\n\n    .dataframe thead th {\n        text-align: right;\n    }\n</style>\n<table border=\"1\" class=\"dataframe\">\n  <thead>\n    <tr style=\"text-align: right;\">\n      <th></th>\n      <th>user_id</th>\n      <th>adopted</th>\n    </tr>\n  </thead>\n  <tbody>\n    <tr>\n      <th>0</th>\n      <td>1</td>\n      <td>0</td>\n    </tr>\n    <tr>\n      <th>1</th>\n      <td>2</td>\n      <td>1</td>\n    </tr>\n    <tr>\n      <th>2</th>\n      <td>3</td>\n      <td>0</td>\n    </tr>\n    <tr>\n      <th>3</th>\n      <td>4</td>\n      <td>0</td>\n    </tr>\n    <tr>\n      <th>4</th>\n      <td>5</td>\n      <td>0</td>\n    </tr>\n    <tr>\n      <th>...</th>\n      <td>...</td>\n      <td>...</td>\n    </tr>\n    <tr>\n      <th>8818</th>\n      <td>11996</td>\n      <td>0</td>\n    </tr>\n    <tr>\n      <th>8819</th>\n      <td>11997</td>\n      <td>0</td>\n    </tr>\n    <tr>\n      <th>8820</th>\n      <td>11998</td>\n      <td>0</td>\n    </tr>\n    <tr>\n      <th>8821</th>\n      <td>11999</td>\n      <td>0</td>\n    </tr>\n    <tr>\n      <th>8822</th>\n      <td>12000</td>\n      <td>0</td>\n    </tr>\n  </tbody>\n</table>\n<p>8823 rows × 2 columns</p>\n</div>",
      "text/plain": "      user_id  adopted\n0           1        0\n1           2        1\n2           3        0\n3           4        0\n4           5        0\n...       ...      ...\n8818    11996        0\n8819    11997        0\n8820    11998        0\n8821    11999        0\n8822    12000        0\n\n[8823 rows x 2 columns]"
     },
     "execution_count": 284,
     "metadata": {},
     "output_type": "execute_result"
    }
   ],
   "source": [
    "adopted_df"
   ]
  },
  {
   "cell_type": "code",
   "execution_count": 277,
   "metadata": {},
   "outputs": [
    {
     "data": {
      "text/plain": "datetime.date(2012, 5, 31)"
     },
     "execution_count": 277,
     "metadata": {},
     "output_type": "execute_result"
    }
   ],
   "source": [
    "min(main_df.creation_time)"
   ]
  },
  {
   "cell_type": "code",
   "execution_count": 279,
   "metadata": {},
   "outputs": [
    {
     "data": {
      "text/plain": "datetime.date(2012, 5, 31)"
     },
     "execution_count": 279,
     "metadata": {},
     "output_type": "execute_result"
    }
   ],
   "source": [
    "min(users_login.date)"
   ]
  },
  {
   "cell_type": "markdown",
   "metadata": {},
   "source": [
    "The earliest date of account creation from the users df and the earliest login date from the logins table match. There were 8,823 users in the logins data set and 12,000 users in the user info dataset. This means that there's no login info for ~3,200 accounts. "
   ]
  },
  {
   "cell_type": "code",
   "execution_count": 280,
   "metadata": {},
   "outputs": [
    {
     "data": {
      "text/plain": "<AxesSubplot:xlabel='adopted', ylabel='count'>"
     },
     "execution_count": 280,
     "metadata": {},
     "output_type": "execute_result"
    },
    {
     "data": {
      "image/png": "[encoded data removed]",
      "text/plain": "<Figure size 432x288 with 1 Axes>"
     },
     "metadata": {
      "needs_background": "light"
     },
     "output_type": "display_data"
    }
   ],
   "source": [
    "sns.countplot(x=\"adopted\", data=main_df)"
   ]
  },
  {
   "cell_type": "code",
   "execution_count": null,
   "metadata": {},
   "outputs": [],
   "source": []
  }
 ],
 "metadata": {
  "kernelspec": {
   "display_name": "Python 3.8.8 64-bit ('anaconda3': virtualenv)",
   "name": "python388jvsc74a57bd0dca0ade3e726a953b501b15e8e990130d2b7799f14cfd9f4271676035ebe5511"
  },
  "language_info": {
   "codemirror_mode": {
    "name": "ipython",
    "version": 3
   },
   "file_extension": ".py",
   "mimetype": "text/x-python",
   "name": "python",
   "nbconvert_exporter": "python",
   "pygments_lexer": "ipython3",
   "version": "3.8.8"
  },
  "orig_nbformat": 3
 },
 "nbformat": 4,
 "nbformat_minor": 4
}